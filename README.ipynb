{
 "cells": [
  {
   "attachments": {},
   "cell_type": "markdown",
   "metadata": {},
   "source": [
    "# SageMaker-Tensorflow-Hans-on\n",
    "## ハンズオン構成\n",
    "![architecture](documents/architecture.svg)\n",
    "\n",
    "- 概要\n",
    "    - 手元のPC(mac/linuxを想定)にてPythonスクリプトを使用して、MNISTデータセットの分類モデルをトレーニングし、その後に推論を実行します。\n",
    "    - コンテナは、SageMaker提供のコンテナを利用します。\n",
    "    - 最初に`src/training_and_save.py`を実行し、トレーニングとトレーニング済みモデルを利用し推論エンドポイントを準備します。\n",
    "    - その後`src/invoke_inference.py`を利用し作成した推論用エンドポイントを利用し推論を実行します。\n",
    "\n",
    "- 元のsampleからの違い\n",
    "    - ベースは、[amazon-sagemaker-examples](https://github.com/aws/amazon-sagemaker-examples/)の[ensorflow_script_mode_training_and_serving](https://github.com/aws/amazon-sagemaker-examples/blob/main/sagemaker-python-sdk/tensorflow_script_mode_training_and_serving/tensorflow_script_mode_training_and_serving.ipynb)(日本語は[こちら](https://github.com/aws-samples/aws-ml-jp/blob/main/sagemaker/tensorflow2-training-and-serving/tensorflow2_training_and_serving.ipynb))です\n",
    "    - 元はSageMakerのnotebookやSageMaker Labでの実行を前提としていますが、本ハンズオンは手元のPCでnotebookを使用せず実行する前提のハンズオンにしています。\n",
    "    - 元のsampleからの変更点は以下になります\n",
    "        - SageMaker実行ロール: 元は作業環境のロールをそのまま利用する前提のコードですが、本ハンズオンは作業用のロールとSageMakerの実行ロールを分ける前提で実装しています。\n",
    "        - 学習と推論のスクリプト分離: 学習と推論を別々に実行する前提で、スクリプトを分けました。\n",
    "\n",
    "## Step1: 事前準備\n",
    "### 実行環境の確認\n",
    "作業環境に以下のソフトウェアがセットアップされていることを確認します。ない場合はインストールします。\n",
    "- python3\n",
    "- pip3(sagemakerのセットアップ用)\n",
    "- AWS CLI(事前の動作確認用)\n",
    "\n",
    "\n",
    "SageMakerを実行したい環境用のプロファイルがあることを確認します。ここではプロファイル名に`sagemaker-poc-profile`という名前を利用していると仮定します。\n",
    "以下の例のようにUserIdやアカウントIDが取得できれば問題ありません。\n",
    "なおこの実行ロールには、`AdministratorAccess`相当の権限が付与されている前提とします(SageMaker用の実行ロール作成のため)。"
   ]
  },
  {
   "cell_type": "code",
   "execution_count": 43,
   "metadata": {
    "vscode": {
     "languageId": "shellscript"
    }
   },
   "outputs": [],
   "source": [
    "%%bash\n",
    "PROFILE=sagemaker-poc-profile\n",
    "echo \"PROFILE=${PROFILE}\" > environment\n",
    "echo \"export PROFILE\" >> environment"
   ]
  },
  {
   "cell_type": "code",
   "execution_count": 44,
   "metadata": {
    "vscode": {
     "languageId": "shellscript"
    }
   },
   "outputs": [
    {
     "name": "stdout",
     "output_type": "stream",
     "text": [
      "{\n",
      "    \"UserId\": \"AROAQH6XODSXUFCH7NNDU:botocore-session-1676978959\",\n",
      "    \"Account\": \"017094810799\",\n",
      "    \"Arn\": \"arn:aws:sts::017094810799:assumed-role/OrganizationAccountAccessRole/botocore-session-1676978959\"\n",
      "}\n"
     ]
    }
   ],
   "source": [
    "%%bash\n",
    ". ./environment \n",
    "aws --profile ${PROFILE} sts get-caller-identity"
   ]
  },
  {
   "attachments": {},
   "cell_type": "markdown",
   "metadata": {},
   "source": [
    "下記のようにアカウントIDやARNが表示されればOKです。\n",
    "```\n",
    "{\n",
    "    \"UserId\": \"AROAQH6XODSXUFCH7NNDU:botocore-session-1676905613\",\n",
    "    \"Account\": \"999999999999\",\n",
    "    \"Arn\": \"arn:aws:sts::999999999999:assumed-role/OrganizationAccountAccessRole/botocore-session-1676905613\"\n",
    "}\n",
    "```\n",
    "### SageMaker用の実行ロールとS3バケットの作成\n",
    "![architecture](documents/step1-1.svg)"
   ]
  },
  {
   "cell_type": "code",
   "execution_count": 45,
   "metadata": {
    "vscode": {
     "languageId": "shellscript"
    }
   },
   "outputs": [
    {
     "name": "stdout",
     "output_type": "stream",
     "text": [
      "\n",
      "Waiting for changeset to be created..\n",
      "\n",
      "No changes to deploy. Stack SageMakerPoC is up to date\n"
     ]
    }
   ],
   "source": [
    "%%bash\n",
    ". ./environment\n",
    "aws --profile ${PROFILE} cloudformation deploy \\\n",
    "    --stack-name SageMakerPoC \\\n",
    "    --template-file \"./CFn/execute_role.yaml\" \\\n",
    "    --capabilities CAPABILITY_IAM ;"
   ]
  },
  {
   "attachments": {},
   "cell_type": "markdown",
   "metadata": {},
   "source": [
    "### python仮想環境の準備\n",
    "今回は手元のPCで実行するため、PC環境にSageMaker SDKが残らないように、ハンズオン用のpython仮想環境を準備します。これはハンズオン固有の設定になるため、SageMakerの利用上は必要はありません。"
   ]
  },
  {
   "cell_type": "code",
   "execution_count": 46,
   "metadata": {
    "vscode": {
     "languageId": "shellscript"
    }
   },
   "outputs": [],
   "source": [
    "%%bash\n",
    "#python仮想環境の作成\n",
    "python3 -m venv sagemaker-hans-on\n",
    "\n",
    "#python仮想環境のアクティブ化\n",
    "source sagemaker-hans-on/bin/activate"
   ]
  },
  {
   "attachments": {},
   "cell_type": "markdown",
   "metadata": {},
   "source": [
    "### 必要なPythonライブラリのセットアップ"
   ]
  },
  {
   "cell_type": "code",
   "execution_count": null,
   "metadata": {
    "vscode": {
     "languageId": "shellscript"
    }
   },
   "outputs": [],
   "source": [
    "%%bash\n",
    "pip3 install sagemaker matplotlib"
   ]
  },
  {
   "attachments": {},
   "cell_type": "markdown",
   "metadata": {},
   "source": [
    "### 事前作成したIAMロールとS3バケット情報の設定\n",
    "トレーニング&推論実行時に引き渡すために、SageMakerの実行ロールとデフォルトS3バケットの情報を環境変数に設定します。"
   ]
  },
  {
   "cell_type": "code",
   "execution_count": 48,
   "metadata": {
    "vscode": {
     "languageId": "shellscript"
    }
   },
   "outputs": [],
   "source": [
    "%%bash\n",
    ". ./environment\n",
    "#ClientのPrivate IP取得\n",
    "ExecuteRoleArn=$(aws --profile ${PROFILE} --output text \\\n",
    "    cloudformation describe-stacks \\\n",
    "        --stack-name SageMakerPoC \\\n",
    "        --query 'Stacks[].Outputs[?OutputKey==`RoleArn`].[OutputValue]')\n",
    "BucketName=$(aws --profile ${PROFILE} --output text \\\n",
    "    cloudformation describe-stacks \\\n",
    "        --stack-name SageMakerPoC \\\n",
    "        --query 'Stacks[].Outputs[?OutputKey==`BucketName`].[OutputValue]')\n",
    "# environmentファイルへの追加\n",
    "echo \"ExecuteRoleArn=${ExecuteRoleArn}\" >> environment\n",
    "echo \"BucketName=${BucketName}\" >> environment\n",
    "echo \"export ExecuteRoleArn BucketName\" >> environment"
   ]
  },
  {
   "attachments": {},
   "cell_type": "markdown",
   "metadata": {},
   "source": [
    "設定確認"
   ]
  },
  {
   "cell_type": "code",
   "execution_count": 49,
   "metadata": {
    "vscode": {
     "languageId": "shellscript"
    }
   },
   "outputs": [
    {
     "name": "stdout",
     "output_type": "stream",
     "text": [
      "BucketName=sagemaker-ap-northeast-1-017094810799\n",
      "ExecuteRoleArn=arn:aws:iam::017094810799:role/SageMakerPoC-SageMakerExecuteRole-1CXV2KBCJBON6\n"
     ]
    }
   ],
   "source": [
    "%%bash\n",
    ". ./environment\n",
    "env | grep -e ExecuteRoleArn -e BucketName"
   ]
  },
  {
   "attachments": {},
   "cell_type": "markdown",
   "metadata": {},
   "source": [
    "### (オプション)トレーニングデータの確認\n",
    "![architecture](documents/step1-2.svg)\n",
    "デモ用のトレーニングデータとして、SageMakerがデモ用にS3にてPublicで提供しているMNISTデータベースを利用します。\n",
    "ここでMNISTデータベースのバケットの中身を確認します。"
   ]
  },
  {
   "cell_type": "code",
   "execution_count": 1,
   "metadata": {
    "vscode": {
     "languageId": "shellscript"
    }
   },
   "outputs": [
    {
     "name": "stdout",
     "output_type": "stream",
     "text": [
      "2019-01-25 08:31:41   31360128 eval_data.npy\n",
      "2019-01-25 08:31:41      40128 eval_labels.npy\n",
      "2019-01-25 08:31:41  172480128 train_data.npy\n",
      "2019-01-25 08:31:41     220128 train_labels.npy\n"
     ]
    }
   ],
   "source": [
    "%%bash\n",
    ". ./environment\n",
    "aws --profile ${PROFILE} s3 ls s3://sagemaker-sample-data-ap-northeast-1/tensorflow/mnist/"
   ]
  },
  {
   "attachments": {},
   "cell_type": "markdown",
   "metadata": {},
   "source": [
    "## Step2: トレーニングの実行と推論エンドポイントの作成\n",
    "### トレーニングの実行/モデル保存/推論エンドポイント作成\n",
    "![architecture](documents/step2-1.svg)"
   ]
  },
  {
   "cell_type": "code",
   "execution_count": 51,
   "metadata": {
    "vscode": {
     "languageId": "shellscript"
    }
   },
   "outputs": [
    {
     "name": "stdout",
     "output_type": "stream",
     "text": [
      "region            = ap-northeast-1\n",
      "execute_role      = arn:aws:iam::017094810799:role/SageMakerPoC-SageMakerExecuteRole-1CXV2KBCJBON6\n",
      "default_bucket    = sagemaker-ap-northeast-1-017094810799\n",
      "training_data_url = s3://sagemaker-sample-data-ap-northeast-1/tensorflow/mnist\n"
     ]
    },
    {
     "name": "stderr",
     "output_type": "stream",
     "text": [
      "INFO:sagemaker.image_uris:image_uri is not presented, retrieving image_uri based on instance_type, framework etc.\n",
      "INFO:sagemaker:Creating training-job with name: tensorflow-training-2023-02-21-12-00-11-831\n"
     ]
    }
   ],
   "source": [
    "%%bash\n",
    ". ./environment\n",
    "python3 src/training_and_save.py"
   ]
  },
  {
   "attachments": {},
   "cell_type": "markdown",
   "metadata": {},
   "source": [
    "### 結果の確認と環境変数の設定"
   ]
  },
  {
   "cell_type": "code",
   "execution_count": null,
   "metadata": {
    "vscode": {
     "languageId": "shellscript"
    }
   },
   "outputs": [
    {
     "name": "stdout",
     "output_type": "stream",
     "text": [
      "トレーニング済みモデルデータの確認\n",
      "2023-02-21 20:43:51    8143276 model.tar.gz\n",
      "\n",
      "エンドポイントの確認\n",
      "[\n",
      "    \"tensorflow-training-2023-02-21-11-44-20-243\",\n",
      "    \"InService\"\n",
      "]\n"
     ]
    }
   ],
   "source": [
    "%%bash\n",
    ". ./environment\n",
    "\n",
    "#手動入力\n",
    "# JOB_NAME=\"<training_and_save.py実行最後に出力されたJob Name>\"\n",
    "# ENDPOINT_NAME=\"<training_and_save.py実行最後に出力されたEndpoint Name\"\n",
    "JOB_NAME=\"tensorflow-training-2023-02-21-11-39-34-363\"\n",
    "ENDPOINT_NAME=\"tensorflow-training-2023-02-21-11-44-20-243\"\n",
    "\n",
    "#確認\n",
    "echo \"トレーニング済みモデルデータの確認\"\n",
    "aws --profile ${PROFILE} s3 ls \"s3://${BucketName}/${JOB_NAME}/output/\"\n",
    "\n",
    "echo\n",
    "echo \"エンドポイントの確認\"\n",
    "aws --profile ${PROFILE} sagemaker describe-endpoint --endpoint-name tensorflow-training-2023-02-21-11-44-20-243 --query '[EndpointName,EndpointStatus]'\n",
    "\n",
    "#環境変数の設定\n",
    "echo \"JOB_NAME=${JOB_NAME}\" >> environment\n",
    "echo \"ENDPOINT_NAME=${ENDPOINT_NAME}\" >> environment\n",
    "echo \"export JOB_NAME ENDPOINT_NAME\" >> environment"
   ]
  },
  {
   "attachments": {},
   "cell_type": "markdown",
   "metadata": {},
   "source": [
    "## Step3: 推論の実行\n",
    "### 推論用のデータをローカルに取得\n",
    "![architecture](documents/step3-1.svg)"
   ]
  },
  {
   "cell_type": "code",
   "execution_count": null,
   "metadata": {
    "vscode": {
     "languageId": "shellscript"
    }
   },
   "outputs": [
    {
     "name": "stdout",
     "output_type": "stream",
     "text": [
      "download: s3://sagemaker-sample-data-ap-northeast-1/tensorflow/mnist/eval_data.npy to ./eval_data.npy\n",
      "download: s3://sagemaker-sample-data-ap-northeast-1/tensorflow/mnist/eval_labels.npy to ./eval_labels.npy\n"
     ]
    }
   ],
   "source": [
    "%%bash\n",
    ". ./environment\n",
    "\n",
    "#ディレクトリの作成\n",
    "mkdir inference\n",
    "cd inference\n",
    "\n",
    "#推論の入力データのダウンロード\n",
    "aws --profile ${PROFILE} s3 \\\n",
    "    cp s3://sagemaker-sample-data-ap-northeast-1/tensorflow/mnist/eval_data.npy eval_data.npy\n",
    "aws --profile ${PROFILE} s3 \\\n",
    "    cp s3://sagemaker-sample-data-ap-northeast-1/tensorflow/mnist/eval_labels.npy eval_labels.npy"
   ]
  },
  {
   "attachments": {},
   "cell_type": "markdown",
   "metadata": {},
   "source": [
    "### 推論の実行"
   ]
  },
  {
   "cell_type": "code",
   "execution_count": null,
   "metadata": {
    "vscode": {
     "languageId": "shellscript"
    }
   },
   "outputs": [],
   "source": [
    "%%bash\n",
    ". ./environment\n",
    "\n",
    "cd inference\n",
    "python3 ../src/invoke_inference.py"
   ]
  },
  {
   "attachments": {},
   "cell_type": "markdown",
   "metadata": {},
   "source": [
    "## Step4: クリーンナップ\n",
    "### 推論エンドポイントの削除"
   ]
  },
  {
   "cell_type": "code",
   "execution_count": null,
   "metadata": {
    "vscode": {
     "languageId": "shellscript"
    }
   },
   "outputs": [
    {
     "name": "stdout",
     "output_type": "stream",
     "text": [
      "endpoint_name      = tensorflow-training-2023-02-21-11-44-20-243\n"
     ]
    }
   ],
   "source": [
    "%%bash\n",
    ". ./environment\n",
    "\n",
    "cd inference\n",
    "python3 ../src/remove_inference_endpoint.py"
   ]
  },
  {
   "attachments": {},
   "cell_type": "markdown",
   "metadata": {},
   "source": [
    "### ローカルデータの削除"
   ]
  },
  {
   "cell_type": "code",
   "execution_count": null,
   "metadata": {
    "vscode": {
     "languageId": "shellscript"
    }
   },
   "outputs": [],
   "source": [
    "%%bash\n",
    "rm -rf inference"
   ]
  },
  {
   "attachments": {},
   "cell_type": "markdown",
   "metadata": {},
   "source": [
    "### python仮想環境の終了"
   ]
  },
  {
   "cell_type": "code",
   "execution_count": null,
   "metadata": {
    "vscode": {
     "languageId": "shellscript"
    }
   },
   "outputs": [],
   "source": [
    "%%bash\n",
    "deactivate"
   ]
  }
 ],
 "metadata": {
  "kernelspec": {
   "display_name": "sagemaker-hans-on",
   "language": "python",
   "name": "python3"
  },
  "language_info": {
   "codemirror_mode": {
    "name": "ipython",
    "version": 3
   },
   "file_extension": ".py",
   "mimetype": "text/x-python",
   "name": "python",
   "nbconvert_exporter": "python",
   "pygments_lexer": "ipython3",
   "version": "3.9.6"
  },
  "orig_nbformat": 4,
  "vscode": {
   "interpreter": {
    "hash": "f36e7bf253d9af48769b993cbf6bec8e9213ff160bee9a2619e9148bfa26391b"
   }
  }
 },
 "nbformat": 4,
 "nbformat_minor": 2
}
